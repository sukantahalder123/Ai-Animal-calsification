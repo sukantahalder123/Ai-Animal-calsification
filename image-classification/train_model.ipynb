{
 "cells": [
  {
   "cell_type": "code",
   "execution_count": null,
   "id": "a14d889e",
   "metadata": {},
   "outputs": [],
   "source": [
    "import torch\n",
    "import torch.nn as nn\n",
    "from torchvision import datasets, transforms, models\n",
    "from torch.utils.data import DataLoader\n",
    "import os"
   ]
  },
  {
   "cell_type": "code",
   "execution_count": null,
   "id": "b7af546c",
   "metadata": {},
   "outputs": [],
   "source": [
    "## Config\n",
    "DATASET_DIR = \"dataset\"\n",
    "MODEL_DIR = \"model\"\n",
    "os.makedirs(MODEL_DIR, exist_ok=True)\n",
    "\n",
    "IMG_SIZE = 180\n",
    "BATCH_SIZE = 16\n",
    "EPOCHS = 10\n",
    "DEVICE = torch.device(\"cuda\" if torch.cuda.is_available() else \"cpu\")"
   ]
  },
  {
   "cell_type": "code",
   "execution_count": null,
   "id": "4f4782a4",
   "metadata": {},
   "outputs": [],
   "source": [
    "## Transforms\n",
    "transform = transforms.Compose([\n",
    "    transforms.Resize((IMG_SIZE, IMG_SIZE)),\n",
    "    transforms.RandomHorizontalFlip(),\n",
    "    transforms.RandomRotation(10),\n",
    "    transforms.ToTensor(),\n",
    "    transforms.Normalize([0.5]*3, [0.5]*3)\n",
    "])"
   ]
  },
  {
   "cell_type": "code",
   "execution_count": null,
   "id": "4ddeee01",
   "metadata": {},
   "outputs": [],
   "source": [
    "## Dataset and Loader\n",
    "train_data = datasets.ImageFolder(DATASET_DIR, transform=transform)\n",
    "train_loader = DataLoader(train_data, batch_size=BATCH_SIZE, shuffle=True)\n",
    "class_names = train_data.classes"
   ]
  },
  {
   "cell_type": "code",
   "execution_count": null,
   "id": "16f8d6c7",
   "metadata": {},
   "outputs": [],
   "source": [
    "## Save class names\n",
    "with open(os.path.join(MODEL_DIR, \"class_names.txt\"), \"w\") as f:\n",
    "    f.write(\"\\n\".join(class_names))"
   ]
  },
  {
   "cell_type": "code",
   "execution_count": null,
   "id": "25f55fc2",
   "metadata": {},
   "outputs": [],
   "source": [
    "## Model\n",
    "model = models.mobilenet_v2(weights=models.MobileNet_V2_Weights.DEFAULT)\n",
    "model.classifier[1] = nn.Linear(model.classifier[1].in_features, len(class_names))\n",
    "model = model.to(DEVICE)"
   ]
  },
  {
   "cell_type": "code",
   "execution_count": null,
   "id": "8535fc30",
   "metadata": {},
   "outputs": [],
   "source": [
    "## Loss & Optimizer\n",
    "criterion = nn.CrossEntropyLoss()\n",
    "optimizer = torch.optim.Adam(model.parameters(), lr=0.001)"
   ]
  },
  {
   "cell_type": "code",
   "execution_count": null,
   "id": "711ef97d",
   "metadata": {},
   "outputs": [
    {
     "name": "stdout",
     "output_type": "stream",
     "text": [
      "✅ Epoch 1/10: Loss=94.7497, Accuracy=77.62%\n",
      "✅ Epoch 2/10: Loss=43.4557, Accuracy=89.66%\n",
      "✅ Epoch 3/10: Loss=29.6786, Accuracy=93.26%\n",
      "✅ Epoch 4/10: Loss=25.4574, Accuracy=93.42%\n",
      "✅ Epoch 5/10: Loss=18.8664, Accuracy=95.11%\n",
      "✅ Epoch 6/10: Loss=17.8976, Accuracy=95.68%\n",
      "✅ Epoch 7/10: Loss=10.9166, Accuracy=97.89%\n",
      "✅ Epoch 8/10: Loss=15.7553, Accuracy=95.94%\n",
      "✅ Epoch 9/10: Loss=17.3483, Accuracy=95.88%\n",
      "✅ Epoch 10/10: Loss=15.6635, Accuracy=95.99%\n"
     ]
    }
   ],
   "source": [
    "## Training Loop\n",
    "for epoch in range(EPOCHS):\n",
    "    model.train()\n",
    "    running_loss = 0.0\n",
    "    correct, total = 0, 0\n",
    "\n",
    "    for inputs, labels in train_loader:\n",
    "        inputs, labels = inputs.to(DEVICE), labels.to(DEVICE)\n",
    "\n",
    "        optimizer.zero_grad()\n",
    "        outputs = model(inputs)\n",
    "        loss = criterion(outputs, labels)\n",
    "        loss.backward()\n",
    "        optimizer.step()\n",
    "\n",
    "        running_loss += loss.item()\n",
    "        _, preds = torch.max(outputs, 1)\n",
    "        correct += (preds == labels).sum().item()\n",
    "        total += labels.size(0)\n",
    "\n",
    "    acc = 100 * correct / total\n",
    "    print(f\"Epoch {epoch+1}/{EPOCHS}: Loss={running_loss:.4f}, Accuracy={acc:.2f}%\")"
   ]
  },
  {
   "cell_type": "code",
   "execution_count": null,
   "id": "eeaa15e5",
   "metadata": {},
   "outputs": [
    {
     "name": "stdout",
     "output_type": "stream",
     "text": [
      "Training complete. Model saved.\n"
     ]
    }
   ],
   "source": [
    "## Save model\n",
    "torch.save(model.state_dict(), os.path.join(MODEL_DIR, \"model.pt\"))\n",
    "print(\"Training complete Model saved\")  "
   ]
  }
 ],
 "metadata": {
  "kernelspec": {
   "display_name": "CLASSIFICATION",
   "language": "python",
   "name": "python3"
  },
  "language_info": {
   "codemirror_mode": {
    "name": "ipython",
    "version": 3
   },
   "file_extension": ".py",
   "mimetype": "text/x-python",
   "name": "python",
   "nbconvert_exporter": "python",
   "pygments_lexer": "ipython3",
   "version": "3.12.0"
  }
 },
 "nbformat": 4,
 "nbformat_minor": 5
}
